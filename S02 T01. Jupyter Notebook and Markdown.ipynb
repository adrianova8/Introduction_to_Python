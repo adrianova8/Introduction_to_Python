{
 "cells": [
  {
   "cell_type": "markdown",
   "id": "1364425c",
   "metadata": {},
   "source": [
    "<h1> Welcome to Python with JupyterNotebook</h1>\n",
    "<h2> Introduction: in this paper we will practise a bit of Python and learn how to use this new Notebook!</h2>\n"
   ]
  },
  {
   "cell_type": "markdown",
   "id": "0f3b5fc7",
   "metadata": {},
   "source": [
    "**Informal Introduction:**\n",
    "\n",
    "    1. Operations\n",
    "        1.1 Mathematics operations and variables\n",
    "        1.2 Explicit conversion\n",
    "            1.2.1 Convert float to int\n",
    "            1.2.2 Convert float to String\n",
    "            1.2.3 Convert int to String\n",
    "            1.2.4 Convert a list\n",
    "            1.2.5 Convert a set\n",
    "        1.3 Booleans\n",
    "    2. Text\n",
    "        2.1 Methods\n",
    "    3. Lists\n",
    "    4. Keyboard reading\n",
    "    5. Types of images\n",
    "        5.1 Add an image in JupyetNotebook\n",
    "        \n",
    "        "
   ]
  },
  {
   "cell_type": "markdown",
   "id": "a4a453d8",
   "metadata": {},
   "source": [
    "#  Operations"
   ]
  },
  {
   "cell_type": "markdown",
   "id": "1b42d8fb",
   "metadata": {},
   "source": [
    "## Mathematics operations and variables"
   ]
  },
  {
   "cell_type": "code",
   "execution_count": 36,
   "id": "55ceac62",
   "metadata": {},
   "outputs": [
    {
     "data": {
      "text/plain": [
       "10.0"
      ]
     },
     "execution_count": 36,
     "metadata": {},
     "output_type": "execute_result"
    }
   ],
   "source": [
    "#Priority of operators \n",
    "\n",
    "5*4/2 #Python knows the priority of operators"
   ]
  },
  {
   "cell_type": "code",
   "execution_count": 37,
   "id": "d22a69c7",
   "metadata": {},
   "outputs": [
    {
     "data": {
      "text/plain": [
       "30"
      ]
     },
     "execution_count": 37,
     "metadata": {},
     "output_type": "execute_result"
    }
   ],
   "source": [
    "n=5 #Multiplication after create a variable with a associated number\n",
    "n*6"
   ]
  },
  {
   "cell_type": "code",
   "execution_count": 39,
   "id": "f66a3bce",
   "metadata": {},
   "outputs": [
    {
     "data": {
      "text/plain": [
       "125"
      ]
     },
     "execution_count": 39,
     "metadata": {},
     "output_type": "execute_result"
    }
   ],
   "source": [
    "n**3 #Power"
   ]
  },
  {
   "cell_type": "code",
   "execution_count": 40,
   "id": "d176be0e",
   "metadata": {},
   "outputs": [
    {
     "data": {
      "text/plain": [
       "25"
      ]
     },
     "execution_count": 40,
     "metadata": {},
     "output_type": "execute_result"
    }
   ],
   "source": [
    "m=20  #Sum of variables\n",
    "n+m"
   ]
  },
  {
   "cell_type": "code",
   "execution_count": 42,
   "id": "7e7e3da2",
   "metadata": {},
   "outputs": [
    {
     "data": {
      "text/plain": [
       "5"
      ]
     },
     "execution_count": 42,
     "metadata": {},
     "output_type": "execute_result"
    }
   ],
   "source": [
    "m=n #assignment of a variable\n",
    "m"
   ]
  },
  {
   "cell_type": "code",
   "execution_count": 46,
   "id": "bacb27f7",
   "metadata": {},
   "outputs": [
    {
     "data": {
      "text/plain": [
       "6.4"
      ]
     },
     "execution_count": 46,
     "metadata": {},
     "output_type": "execute_result"
    }
   ],
   "source": [
    "#Reuse code\n",
    "\n",
    "mark_1=7.5\n",
    "mark_2=5.3\n",
    "\n",
    "mean=(mark_1 + mark_2)/2\n",
    "\n",
    "mean"
   ]
  },
  {
   "cell_type": "markdown",
   "id": "d1dca579",
   "metadata": {},
   "source": [
    "##  Explicit conversion\n",
    "\n",
    "    1.2.1 Convert float to int\n",
    "    1.2.2 Convert float to String\n",
    "    1.2.3 Convert int to String\n",
    "    1.2.4 Convert a list\n",
    "    1.2.5 Convert a set"
   ]
  },
  {
   "cell_type": "code",
   "execution_count": 84,
   "id": "c324f19a",
   "metadata": {},
   "outputs": [
    {
     "name": "stdout",
     "output_type": "stream",
     "text": [
      "3\n"
     ]
    }
   ],
   "source": [
    "#1.2.1 Convert float to int\n",
    "a=3.5\n",
    "a=int(a)\n",
    "print(a)"
   ]
  },
  {
   "cell_type": "code",
   "execution_count": 89,
   "id": "b1ab3e55",
   "metadata": {},
   "outputs": [
    {
     "name": "stdout",
     "output_type": "stream",
     "text": [
      "<class 'float'>\n",
      "<class 'str'>\n"
     ]
    }
   ],
   "source": [
    "#1.2.2 Convert float to String\n",
    "a=3.5\n",
    "print(type(a))\n",
    "a=str(a)\n",
    "print(type(a))"
   ]
  },
  {
   "cell_type": "code",
   "execution_count": 90,
   "id": "e4256641",
   "metadata": {},
   "outputs": [
    {
     "name": "stdout",
     "output_type": "stream",
     "text": [
      "<class 'int'>\n",
      "<class 'str'>\n"
     ]
    }
   ],
   "source": [
    "#1.2.3 Convert int to String\n",
    "a=10\n",
    "print(type(a))\n",
    "a=str(a)\n",
    "print(type(a))"
   ]
  },
  {
   "cell_type": "code",
   "execution_count": 94,
   "id": "c917d7fb",
   "metadata": {},
   "outputs": [
    {
     "name": "stdout",
     "output_type": "stream",
     "text": [
      "{1, 2, 3}\n",
      "[1, 2, 3]\n"
     ]
    }
   ],
   "source": [
    "#1.2.4 Convert a list from a set\n",
    "a={1,2,3}\n",
    "b=list(a)\n",
    "print((a))\n",
    "print((b))\n"
   ]
  },
  {
   "cell_type": "code",
   "execution_count": 95,
   "id": "32d8d65f",
   "metadata": {},
   "outputs": [
    {
     "name": "stdout",
     "output_type": "stream",
     "text": [
      "[1, 2, 3]\n",
      "{1, 2, 3}\n"
     ]
    }
   ],
   "source": [
    "#1.2.5 Convert a set\n",
    "a=[1,2,3]\n",
    "b=set(a)\n",
    "print(a)\n",
    "print(b)"
   ]
  },
  {
   "cell_type": "markdown",
   "id": "48982ae8",
   "metadata": {},
   "source": [
    "##  Booleans"
   ]
  },
  {
   "cell_type": "code",
   "execution_count": 99,
   "id": "ddc77098",
   "metadata": {},
   "outputs": [
    {
     "name": "stdout",
     "output_type": "stream",
     "text": [
      "True\n",
      "False\n",
      "True\n"
     ]
    }
   ],
   "source": [
    "#Evaluate expressions\n",
    "print(25<30)\n",
    "print(1<=0)\n",
    "print(1==1)"
   ]
  },
  {
   "cell_type": "code",
   "execution_count": 103,
   "id": "f0be1782",
   "metadata": {},
   "outputs": [
    {
     "name": "stdout",
     "output_type": "stream",
     "text": [
      "b is bigger than a\n"
     ]
    }
   ],
   "source": [
    "#Use boolean with if\n",
    "a=1\n",
    "b=2\n",
    "if True:\n",
    "    print(\"b is bigger than a\")\n",
    "else: \n",
    "    print(\"a is bigger than b\")\n"
   ]
  },
  {
   "cell_type": "markdown",
   "id": "73986492",
   "metadata": {},
   "source": [
    "# Text"
   ]
  },
  {
   "cell_type": "code",
   "execution_count": 47,
   "id": "fcada9fd",
   "metadata": {},
   "outputs": [
    {
     "data": {
      "text/plain": [
       "'Hello JupyterNoteBook this is my first String'"
      ]
     },
     "execution_count": 47,
     "metadata": {},
     "output_type": "execute_result"
    }
   ],
   "source": [
    "\"Hello JupyterNoteBook, this is my first String\""
   ]
  },
  {
   "cell_type": "code",
   "execution_count": 48,
   "id": "5942f58d",
   "metadata": {},
   "outputs": [
    {
     "data": {
      "text/plain": [
       "'Hello World only with commas'"
      ]
     },
     "execution_count": 48,
     "metadata": {},
     "output_type": "execute_result"
    }
   ],
   "source": [
    "'Hello World only with commas'"
   ]
  },
  {
   "cell_type": "code",
   "execution_count": 54,
   "id": "a40c4460",
   "metadata": {},
   "outputs": [
    {
     "data": {
      "text/plain": [
       "'We are here trying to know how \"JUPYTER\" works'"
      ]
     },
     "execution_count": 54,
     "metadata": {},
     "output_type": "execute_result"
    }
   ],
   "source": [
    "#Add commas in the middle of a String\n",
    "\n",
    "\"We are here trying to know how \\\"JUPYTER\\\" works\""
   ]
  },
  {
   "cell_type": "code",
   "execution_count": 59,
   "id": "5dfd321b",
   "metadata": {},
   "outputs": [
    {
     "name": "stdout",
     "output_type": "stream",
     "text": [
      "My name is: \tAdrià Nova Pagés\n"
     ]
    }
   ],
   "source": [
    "#How to use the print() function\n",
    "print(\"My name is: \\tAdrià Nova Pagés\") #\\t hace un salto de espacio y \\n hace un salto de línea"
   ]
  },
  {
   "cell_type": "code",
   "execution_count": 58,
   "id": "d20fb415",
   "metadata": {},
   "outputs": [
    {
     "name": "stdout",
     "output_type": "stream",
     "text": [
      "My name is: \n",
      "Adrià Nova Pagés\n"
     ]
    }
   ],
   "source": [
    "print(\"My name is: \\nAdrià Nova Pagés\")"
   ]
  },
  {
   "cell_type": "code",
   "execution_count": 62,
   "id": "fbb99f53",
   "metadata": {},
   "outputs": [
    {
     "name": "stdout",
     "output_type": "stream",
     "text": [
      "C:\\name\\directory\n"
     ]
    }
   ],
   "source": [
    "#To avoid special characters we must use a RAW chain\n",
    "print(r\"C:\\name\\directory\")"
   ]
  },
  {
   "cell_type": "code",
   "execution_count": 63,
   "id": "169af09b",
   "metadata": {},
   "outputs": [
    {
     "name": "stdout",
     "output_type": "stream",
     "text": [
      "This is a chain \n",
      "with two lines\n"
     ]
    }
   ],
   "source": [
    "c=\"This is a chain \\nwith two lines\"\n",
    "print(c)"
   ]
  },
  {
   "cell_type": "code",
   "execution_count": 68,
   "id": "fac72fa8",
   "metadata": {},
   "outputs": [
    {
     "name": "stdout",
     "output_type": "stream",
     "text": [
      "                                        a text with 40 spaces\n"
     ]
    }
   ],
   "source": [
    "#Write a text in the middle\n",
    "ten_spaces=\" \" * 40\n",
    "print(ten_spaces + \"a text with 40 spaces\")"
   ]
  },
  {
   "cell_type": "code",
   "execution_count": 72,
   "id": "c70eb483",
   "metadata": {},
   "outputs": [
    {
     "data": {
      "text/plain": [
       "'A'"
      ]
     },
     "execution_count": 72,
     "metadata": {},
     "output_type": "execute_result"
    }
   ],
   "source": [
    "#Indexes on Strings\n",
    "word=\"GAME OF THRONES\"\n",
    "word[1]"
   ]
  },
  {
   "cell_type": "code",
   "execution_count": 74,
   "id": "144c1a0b",
   "metadata": {},
   "outputs": [
    {
     "data": {
      "text/plain": [
       "'G'"
      ]
     },
     "execution_count": 74,
     "metadata": {},
     "output_type": "execute_result"
    }
   ],
   "source": [
    "#To access a character at the end\n",
    "word[-0] #Like if it was the first letter\n",
    "word[-1]\n",
    "word[-2]"
   ]
  },
  {
   "cell_type": "code",
   "execution_count": 79,
   "id": "18fae628",
   "metadata": {},
   "outputs": [
    {
     "data": {
      "text/plain": [
       "'SAME OF THRONES'"
      ]
     },
     "execution_count": 79,
     "metadata": {},
     "output_type": "execute_result"
    }
   ],
   "source": [
    "#Mutability\n",
    "word=\"S\" + word[1:]\n",
    "word"
   ]
  },
  {
   "cell_type": "code",
   "execution_count": 80,
   "id": "86604992",
   "metadata": {},
   "outputs": [
    {
     "data": {
      "text/plain": [
       "15"
      ]
     },
     "execution_count": 80,
     "metadata": {},
     "output_type": "execute_result"
    }
   ],
   "source": [
    "#To know the length of the String\n",
    "len(word)"
   ]
  },
  {
   "cell_type": "code",
   "execution_count": 9,
   "id": "cf32fda1",
   "metadata": {},
   "outputs": [
    {
     "name": "stdout",
     "output_type": "stream",
     "text": [
      "The numbers are 10 and 20\n"
     ]
    }
   ],
   "source": [
    "#String formatting\n",
    "s=\"The numbers are {a} and {b}\".format(a=10,b=20)\n",
    "print(s)"
   ]
  },
  {
   "cell_type": "code",
   "execution_count": 13,
   "id": "64e49824",
   "metadata": {},
   "outputs": [
    {
     "name": "stdout",
     "output_type": "stream",
     "text": [
      "The numbers are 10 and 20\n",
      "a+b=30\n"
     ]
    }
   ],
   "source": [
    "#f-Strings (allows you to embed expressions within strings)\n",
    "a=10;b=20\n",
    "s=f\"The numbers are {a} and {b}\"\n",
    "print(s)\n",
    "z=f\"a+b={a+b}\"\n",
    "print(z)"
   ]
  },
  {
   "cell_type": "markdown",
   "id": "b60f0420",
   "metadata": {},
   "source": [
    "##  Methods"
   ]
  },
  {
   "cell_type": "code",
   "execution_count": 17,
   "id": "24e11715",
   "metadata": {},
   "outputs": [
    {
     "name": "stdout",
     "output_type": "stream",
     "text": [
      "tHE cROWN\n"
     ]
    }
   ],
   "source": [
    "#Converts uppercase alphabetic characters to lowercase and viceversa.\n",
    "series=\"The Crown\"\n",
    "print(series.swapcase())"
   ]
  },
  {
   "cell_type": "code",
   "execution_count": 19,
   "id": "f2aa4e08",
   "metadata": {},
   "outputs": [
    {
     "name": "stdout",
     "output_type": "stream",
     "text": [
      "11\n"
     ]
    }
   ],
   "source": [
    "#Count. Allows counting the times that another string is within the first\n",
    "tigers=\"Tres tristes tigres, tragaban trigo en un trigal, en tres tristes trastos, tragaban trigo tres tristes tigres\"\n",
    "print(tigers.count(\"tr\"))"
   ]
  },
  {
   "cell_type": "code",
   "execution_count": 28,
   "id": "d52f7f19",
   "metadata": {},
   "outputs": [
    {
     "name": "stdout",
     "output_type": "stream",
     "text": [
      " adrianova8@gmail.com  \n"
     ]
    }
   ],
   "source": [
    "#Strip. Deletes the character that is entered to the left and right\n",
    "email=\" adrianova8@gmail.com  adria\"\n",
    "print(email.strip(\"adria\"))"
   ]
  },
  {
   "cell_type": "code",
   "execution_count": 31,
   "id": "77f16b12",
   "metadata": {},
   "outputs": [
    {
     "name": "stdout",
     "output_type": "stream",
     "text": [
      "00005\n"
     ]
    }
   ],
   "source": [
    "#Z.fill. Full the string with leading zeros until it reaches the length passed as a parameter.\n",
    "number=\"5\"\n",
    "print(number.zfill(5))"
   ]
  },
  {
   "cell_type": "code",
   "execution_count": 38,
   "id": "5dd48e5e",
   "metadata": {},
   "outputs": [
    {
     "name": "stdout",
     "output_type": "stream",
     "text": [
      "['Java', 'Python', 'C']\n"
     ]
    }
   ],
   "source": [
    "#Split.Splits a string into substrings and returns them stored in a list\n",
    "programs=\"Java,Python,C\"\n",
    "print(programs.split(\",\"))"
   ]
  },
  {
   "cell_type": "markdown",
   "id": "6a900015",
   "metadata": {},
   "source": [
    "#  Lists"
   ]
  },
  {
   "cell_type": "code",
   "execution_count": 105,
   "id": "9e2c9498",
   "metadata": {},
   "outputs": [
    {
     "data": {
      "text/plain": [
       "[1, 2, 3, 4, 5]"
      ]
     },
     "execution_count": 105,
     "metadata": {},
     "output_type": "execute_result"
    }
   ],
   "source": [
    "list_number=[1,2,3,4,5]\n",
    "list_number"
   ]
  },
  {
   "cell_type": "code",
   "execution_count": 106,
   "id": "420b1416",
   "metadata": {},
   "outputs": [
    {
     "name": "stdout",
     "output_type": "stream",
     "text": [
      "4\n",
      "a good chain\n",
      "-345\n"
     ]
    }
   ],
   "source": [
    "#List has the same running that chain charachters\n",
    "information=[4,\"a good chain\", -345, 3.54, \"other chain\"]\n",
    "print(information[0])\n",
    "print(information[1])\n",
    "print(information[2])"
   ]
  },
  {
   "cell_type": "code",
   "execution_count": 107,
   "id": "257888cd",
   "metadata": {},
   "outputs": [
    {
     "data": {
      "text/plain": [
       "[1, 2, 3, 4, 5, 6, 7, 8, 9, 10]"
      ]
     },
     "execution_count": 107,
     "metadata": {},
     "output_type": "execute_result"
    }
   ],
   "source": [
    "#Sum of lists\n",
    "list_number+[6,7,8,9,10]"
   ]
  },
  {
   "cell_type": "code",
   "execution_count": 108,
   "id": "8d56bf7f",
   "metadata": {},
   "outputs": [
    {
     "data": {
      "text/plain": [
       "[0, 2, 4, 7, 8, 10]"
      ]
     },
     "execution_count": 108,
     "metadata": {},
     "output_type": "execute_result"
    }
   ],
   "source": [
    "#Mutability\n",
    "even=[0,2,4,6,8,10]\n",
    "even[3]=7\n",
    "even\n"
   ]
  },
  {
   "cell_type": "code",
   "execution_count": 111,
   "id": "af345508",
   "metadata": {},
   "outputs": [
    {
     "data": {
      "text/plain": [
       "[0, 2, 4, 7, 8, 10, 12, 12, 14, 16]"
      ]
     },
     "execution_count": 111,
     "metadata": {},
     "output_type": "execute_result"
    }
   ],
   "source": [
    "#Add items in a list\n",
    "even.append(12)\n",
    "even.append(14)\n",
    "even.append(4*4)\n",
    "even"
   ]
  },
  {
   "cell_type": "code",
   "execution_count": 114,
   "id": "65c195b1",
   "metadata": {},
   "outputs": [
    {
     "data": {
      "text/plain": [
       "[[1, 2, 3], [4, 5, 6], [7, 8, 9]]"
      ]
     },
     "execution_count": 114,
     "metadata": {},
     "output_type": "execute_result"
    }
   ],
   "source": [
    "#Nest list\n",
    "a=[1,2,3]\n",
    "b=[4,5,6]\n",
    "c=[7,8,9]\n",
    "total=[a,b,c]\n",
    "total"
   ]
  },
  {
   "cell_type": "code",
   "execution_count": 115,
   "id": "83688ee7",
   "metadata": {},
   "outputs": [
    {
     "name": "stdout",
     "output_type": "stream",
     "text": [
      "[1, 2, 3]\n",
      "[7, 8, 9]\n",
      "1\n",
      "5\n",
      "9\n",
      "9\n"
     ]
    }
   ],
   "source": [
    "print(total[0]) #first sublist\n",
    "print(total[-1])#last sublist\n",
    "\n",
    "print(total[0][0]) #first sublist,and first ítem of it \n",
    "print(total[1][1]) #second sublist,and second ítem of it \n",
    "print(total[2][2]) #third sublist,and third ítem of it \n",
    "print(total[-1][-1]) #last sublist,and first last of it \n"
   ]
  },
  {
   "cell_type": "markdown",
   "id": "d5ac29a1",
   "metadata": {},
   "source": [
    "#  Keyboard reading"
   ]
  },
  {
   "cell_type": "code",
   "execution_count": 40,
   "id": "05bdb0e2",
   "metadata": {},
   "outputs": [
    {
     "name": "stdout",
     "output_type": "stream",
     "text": [
      "Introduce a number: 75\n"
     ]
    }
   ],
   "source": [
    "#Introduce a number by keyboard\n",
    "number=input(\"Introduce a number: \")"
   ]
  },
  {
   "cell_type": "code",
   "execution_count": 42,
   "id": "9980a6ea",
   "metadata": {},
   "outputs": [
    {
     "name": "stdout",
     "output_type": "stream",
     "text": [
      "Introduce a enter number: 5\n"
     ]
    },
    {
     "data": {
      "text/plain": [
       "25"
      ]
     },
     "execution_count": 42,
     "metadata": {},
     "output_type": "execute_result"
    }
   ],
   "source": [
    "#We must use int() if we want transform a chain variable to int\n",
    "number=int(input(\"Introduce a enter number: \"))\n",
    "number*5"
   ]
  },
  {
   "cell_type": "code",
   "execution_count": 43,
   "id": "6878935a",
   "metadata": {},
   "outputs": [
    {
     "name": "stdout",
     "output_type": "stream",
     "text": [
      "Introduce a float number: 3.12\n"
     ]
    },
    {
     "data": {
      "text/plain": [
       "15.600000000000001"
      ]
     },
     "execution_count": 43,
     "metadata": {},
     "output_type": "execute_result"
    }
   ],
   "source": [
    "#The same but with a float\n",
    "floats=float(input(\"Introduce a float number: \"))\n",
    "floats*5"
   ]
  },
  {
   "cell_type": "markdown",
   "id": "6c5cbed4",
   "metadata": {},
   "source": [
    "# Types of images"
   ]
  },
  {
   "cell_type": "markdown",
   "id": "7c5c0d2d",
   "metadata": {},
   "source": [
    "##  Add an image in JupyetNotebook:"
   ]
  },
  {
   "cell_type": "code",
   "execution_count": 9,
   "id": "0ccca709",
   "metadata": {
    "scrolled": true
   },
   "outputs": [
    {
     "data": {
      "image/png": "[encoded data removed]",
      "text/plain": [
       "<IPython.core.display.Image object>"
      ]
     },
     "execution_count": 9,
     "metadata": {
      "image/png": {
       "height": 250,
       "width": 450
      }
     },
     "output_type": "execute_result"
    }
   ],
   "source": [
    "from IPython.display import Image\n",
    "Image (filename=\"/Users/adrianova/Desktop/Data Science/Python/IT Academy - Python/SPRINT 2 - Introducció a PYthon/images/phyton.png\", width=450, height=250)\n"
   ]
  },
  {
   "cell_type": "code",
   "execution_count": null,
   "id": "d2493ecb",
   "metadata": {},
   "outputs": [],
   "source": []
  }
 ],
 "metadata": {
  "kernelspec": {
   "display_name": "Python 3",
   "language": "python",
   "name": "python3"
  },
  "language_info": {
   "codemirror_mode": {
    "name": "ipython",
    "version": 3
   },
   "file_extension": ".py",
   "mimetype": "text/x-python",
   "name": "python",
   "nbconvert_exporter": "python",
   "pygments_lexer": "ipython3",
   "version": "3.8.8"
  },
  "toc": {
   "base_numbering": 1,
   "nav_menu": {},
   "number_sections": true,
   "sideBar": true,
   "skip_h1_title": false,
   "title_cell": "Table of Contents",
   "title_sidebar": "Contents",
   "toc_cell": false,
   "toc_position": {
    "height": "calc(100% - 180px)",
    "left": "10px",
    "top": "150px",
    "width": "288px"
   },
   "toc_section_display": true,
   "toc_window_display": true
  }
 },
 "nbformat": 4,
 "nbformat_minor": 5
}
